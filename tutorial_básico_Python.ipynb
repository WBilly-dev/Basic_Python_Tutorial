{
 "cells": [
  {
   "cell_type": "markdown",
   "metadata": {},
   "source": [
    "<h1>Tutorial Básico de Python</h1>"
   ]
  },
  {
   "cell_type": "markdown",
   "metadata": {},
   "source": [
    "<h2>Variables</h2>"
   ]
  },
  {
   "cell_type": "code",
   "execution_count": 10,
   "metadata": {},
   "outputs": [
    {
     "name": "stdout",
     "output_type": "stream",
     "text": [
      "El nombre del alumno es: Luis y su edad es : 23\n"
     ]
    }
   ],
   "source": [
    "nombre_alumno = \"Luis\" #De tipo string\n",
    "edad_alumno = 23 #De tipo entero\n",
    "print (\"El nombre del alumno es:\",nombre_alumno, \"y su edad es :\",edad_alumno)"
   ]
  },
  {
   "cell_type": "code",
   "execution_count": 9,
   "metadata": {},
   "outputs": [],
   "source": [
    "peso= 50.20 #De tipo float\n",
    "nublado = True #De tipo boolean"
   ]
  },
  {
   "cell_type": "markdown",
   "metadata": {},
   "source": [
    "<h2>Comentarios</h2>"
   ]
  },
  {
   "cell_type": "markdown",
   "metadata": {},
   "source": [
    "Con # se realizan comentarios en el código para explicar las funcionalidades etc..."
   ]
  },
  {
   "cell_type": "markdown",
   "metadata": {},
   "source": [
    "Con \"\"\" se pueden comentar bloques de codigo \"\"\""
   ]
  },
  {
   "cell_type": "code",
   "execution_count": 7,
   "metadata": {},
   "outputs": [
    {
     "data": {
      "text/plain": [
       "'Esto es un ejemplo en \\ndonde se comenta un bloque de código\\n'"
      ]
     },
     "execution_count": 7,
     "metadata": {},
     "output_type": "execute_result"
    }
   ],
   "source": [
    "\"\"\"Esto es un ejemplo en \n",
    "donde se comenta un bloque de código\n",
    "\"\"\""
   ]
  },
  {
   "cell_type": "markdown",
   "metadata": {},
   "source": [
    "<h2>Función Input</h2>"
   ]
  },
  {
   "cell_type": "markdown",
   "metadata": {},
   "source": [
    "La funcion input() se utiliza para ingresar datos por teclado."
   ]
  },
  {
   "cell_type": "code",
   "execution_count": 13,
   "metadata": {},
   "outputs": [
    {
     "name": "stdout",
     "output_type": "stream",
     "text": [
      "El nombre del paciente ingresado es : William\n"
     ]
    }
   ],
   "source": [
    "nombre=input(\"Ingrese el nombre del paciente:\")\n",
    "print (\"El nombre del paciente ingresado es :\",nombre)"
   ]
  },
  {
   "cell_type": "markdown",
   "metadata": {},
   "source": [
    "<h2>Función Type</h2>"
   ]
  },
  {
   "cell_type": "markdown",
   "metadata": {},
   "source": [
    "La función type() devuelve el tipo de dato que se le pasa."
   ]
  },
  {
   "cell_type": "code",
   "execution_count": 14,
   "metadata": {},
   "outputs": [
    {
     "data": {
      "text/plain": [
       "str"
      ]
     },
     "execution_count": 14,
     "metadata": {},
     "output_type": "execute_result"
    }
   ],
   "source": [
    "type(nombre)"
   ]
  },
  {
   "cell_type": "code",
   "execution_count": 15,
   "metadata": {},
   "outputs": [
    {
     "name": "stdout",
     "output_type": "stream",
     "text": [
      "El tipo de dato de la variable nombre es: <class 'str'>\n"
     ]
    }
   ],
   "source": [
    "print (\"El tipo de dato de la variable nombre es:\",type(nombre))"
   ]
  },
  {
   "cell_type": "markdown",
   "metadata": {},
   "source": [
    "<h2>Operadores Aritméticos</h2>"
   ]
  },
  {
   "cell_type": "markdown",
   "metadata": {},
   "source": [
    "Con + se suma.\n",
    "Con - se resta.\n",
    "Con / se divide.\n",
    "Con * se multiplica.\n",
    "Con ** se calcula la potencia.\n",
    "Con % se halla el resto de una división.\n"
   ]
  },
  {
   "cell_type": "code",
   "execution_count": 16,
   "metadata": {},
   "outputs": [],
   "source": [
    "num1=5\n",
    "num2=2"
   ]
  },
  {
   "cell_type": "code",
   "execution_count": 18,
   "metadata": {},
   "outputs": [
    {
     "name": "stdout",
     "output_type": "stream",
     "text": [
      "7\n",
      "3\n",
      "10\n",
      "2.5\n",
      "25\n",
      "1\n"
     ]
    }
   ],
   "source": [
    "print(num1+num2)\n",
    "print(num1-num2)\n",
    "print(num1*num2)\n",
    "print(num1/num2)\n",
    "print(num1**num2)\n",
    "print(num1%num2)"
   ]
  },
  {
   "cell_type": "code",
   "execution_count": 19,
   "metadata": {},
   "outputs": [
    {
     "name": "stdout",
     "output_type": "stream",
     "text": [
      "La suma de ambos numeros es: 4.0\n"
     ]
    }
   ],
   "source": [
    "num1= float(input(\"Ingrese el primer numero:\"))\n",
    "num2= float(input(\"Ingrese el segundo numero:\"))\n",
    "print(\"La suma de ambos numeros es:\",num1+num2)"
   ]
  },
  {
   "cell_type": "markdown",
   "metadata": {},
   "source": [
    "En el ejemplo anterior se debió especificar que el numero introducido es de tipo float , aunque sea un entero en este caso , el objetivo es que si no se epecifica el tipo de dato , automaticamente el metodo input() toma ese valor como un str."
   ]
  },
  {
   "cell_type": "markdown",
   "metadata": {},
   "source": [
    "Igualmente se puede guardar el dato introducido y luego convertirlo manualmente al tipo de dato deseado."
   ]
  },
  {
   "cell_type": "markdown",
   "metadata": {},
   "source": [
    "<h2>Casting de variables</h2>"
   ]
  },
  {
   "cell_type": "code",
   "execution_count": 20,
   "metadata": {},
   "outputs": [
    {
     "name": "stdout",
     "output_type": "stream",
     "text": [
      "1\n"
     ]
    }
   ],
   "source": [
    "entero=int(\"5\")\n",
    "flotante=float(\"2.5\")\n",
    "booleano=bool(\"True\")\n",
    "\n",
    "booleano_como_entero = int(booleano)\n",
    "print(booleano_como_entero)"
   ]
  },
  {
   "cell_type": "markdown",
   "metadata": {},
   "source": [
    "En el ejemplo anterior se guardan 3 variables en la forma de str y se convierte al tipo de dato especificado , luego el valor booleano True es convertido a entero dando como valor 1 , esto es debido a que True se representa como valor entero a 1 y False a 0."
   ]
  },
  {
   "cell_type": "markdown",
   "metadata": {},
   "source": [
    "\n",
    "Igualmente funciona en vicerversa"
   ]
  },
  {
   "cell_type": "code",
   "execution_count": 24,
   "metadata": {},
   "outputs": [
    {
     "name": "stdout",
     "output_type": "stream",
     "text": [
      "False\n"
     ]
    }
   ],
   "source": [
    "booleano_a=bool(0)\n",
    "print(booleano_a)"
   ]
  },
  {
   "cell_type": "markdown",
   "metadata": {},
   "source": [
    "Cualquier dato ya sea entero, flotante o string que se convierta a bool dará como resultado True. El único número en el que esa conversión da False es con 0."
   ]
  },
  {
   "cell_type": "code",
   "execution_count": 25,
   "metadata": {},
   "outputs": [
    {
     "name": "stdout",
     "output_type": "stream",
     "text": [
      "True\n"
     ]
    }
   ],
   "source": [
    "booleano_b=bool(\"Hola\")\n",
    "print(booleano_b)"
   ]
  },
  {
   "cell_type": "markdown",
   "metadata": {},
   "source": [
    "<h2>Comparadores</h2>"
   ]
  },
  {
   "cell_type": "markdown",
   "metadata": {},
   "source": [
    "Con == compara igualdad ya que solo un = asigna valores.\n",
    "Con < o > se compara si es menor que o mayor que.\n",
    "Con >= se compara si es mayor o igual que.\n",
    "Con <= se compara si es menor o igual que.\n",
    "Con != se pregunta si es distinto."
   ]
  },
  {
   "cell_type": "code",
   "execution_count": 28,
   "metadata": {},
   "outputs": [
    {
     "name": "stdout",
     "output_type": "stream",
     "text": [
      "False\n",
      "True\n",
      "False\n",
      "True\n",
      "False\n",
      "True\n"
     ]
    }
   ],
   "source": [
    "num1=5\n",
    "num2=2\n",
    "\n",
    "print(num1==num2)\n",
    "print(num1>=num2)\n",
    "print(num1<=num2)\n",
    "print(num1>num2)\n",
    "print(num1<num2)\n",
    "print(num1!=num2)"
   ]
  },
  {
   "cell_type": "markdown",
   "metadata": {},
   "source": [
    "<h2>Operadores de asignación</h2>"
   ]
  },
  {
   "cell_type": "markdown",
   "metadata": {},
   "source": [
    "La asignación de variables se realiza con el signo =.\n"
   ]
  },
  {
   "cell_type": "markdown",
   "metadata": {},
   "source": [
    "Si se quiere aumentar el valor de dicha variable se puede hacer de la siguiente manera."
   ]
  },
  {
   "cell_type": "code",
   "execution_count": 32,
   "metadata": {},
   "outputs": [
    {
     "name": "stdout",
     "output_type": "stream",
     "text": [
      "0\n",
      "5\n"
     ]
    }
   ],
   "source": [
    "num=0\n",
    "print(num)\n",
    "num+=5\n",
    "print(num)\n"
   ]
  },
  {
   "cell_type": "markdown",
   "metadata": {},
   "source": [
    "Se puede usar entonces como se observó en el ejemplo +=."
   ]
  },
  {
   "cell_type": "markdown",
   "metadata": {},
   "source": [
    "<h2>Estructuras de Control</h2>"
   ]
  },
  {
   "cell_type": "markdown",
   "metadata": {},
   "source": [
    "La estructura de control se realiza con la palabra reservada if para comprobar si se cumple con una condición , y else para si no cumple.\n",
    "Tambien puede utilizarse elif para comprobar otra condición.\n"
   ]
  },
  {
   "cell_type": "code",
   "execution_count": 46,
   "metadata": {},
   "outputs": [
    {
     "name": "stdout",
     "output_type": "stream",
     "text": [
      "Usted no cumple con la edad mínima.\n"
     ]
    }
   ],
   "source": [
    "Edad=int(input(\"Introduzca su edad:\"))\n",
    "\n",
    "    \n",
    "if Edad>=18:\n",
    "    print(\"Usted ha sido registrado satisfactoriamente en la web.\")\n",
    "\n",
    "else:\n",
    "    print (\"Usted no cumple con la edad mínima.\")    "
   ]
  },
  {
   "cell_type": "markdown",
   "metadata": {},
   "source": [
    "<h2>Operadores Lógicos</h2>"
   ]
  },
  {
   "cell_type": "markdown",
   "metadata": {},
   "source": [
    "Se puede concatenar condiciones para ir cumpliendolas paso a paso"
   ]
  },
  {
   "cell_type": "markdown",
   "metadata": {},
   "source": [
    "Se pueden concatenar condiciones mediante:\n",
    "and --establece más de una condición a cumplir\n",
    "or --establece que se cumpla al menos una de los condiciones establecidas\n",
    "not() --establece la negación de una variable"
   ]
  },
  {
   "cell_type": "code",
   "execution_count": 6,
   "metadata": {},
   "outputs": [
    {
     "name": "stdout",
     "output_type": "stream",
     "text": [
      "Puedes salir pero lleva un paraguas\n"
     ]
    }
   ],
   "source": [
    "nublado=True\n",
    "aburrido=True\n",
    "\n",
    "x=int(input(\"Estás aburrido--> 1-Si 2-No\"))\n",
    "if x==1:\n",
    "    aburrido=True\n",
    "elif x==2:\n",
    "    aburrido=False\n",
    "if aburrido==True:         \n",
    "    prob_lluvia=int(input(\"Indique la probabilidad de que llueva --> 1-Baja 2-Media 3-Alta\"))\n",
    "    if prob_lluvia==1 and aburrido==True:\n",
    "        print(\"Es hora de salir a dar una vuelta\")\n",
    "    elif prob_lluvia==2 and aburrido==True:\n",
    "        print(\"Puedes salir pero lleva un paraguas\")\n",
    "    elif prob_lluvia==3 and aburrido==True:\n",
    "        print(\"Lo siento es mejor quedarse en casa\")\n",
    "\n",
    "else:\n",
    "    print(\"Tengo cosas que hacer\")            \n"
   ]
  },
  {
   "cell_type": "markdown",
   "metadata": {},
   "source": [
    "<h2>Loops</h2>"
   ]
  },
  {
   "cell_type": "markdown",
   "metadata": {},
   "source": [
    "El bucle o loop se utiliza para ejecutar un bloque de código repetidas veces hasta que se cumpla la condición de salida"
   ]
  },
  {
   "cell_type": "code",
   "execution_count": 13,
   "metadata": {},
   "outputs": [
    {
     "name": "stdout",
     "output_type": "stream",
     "text": [
      "Estamos en la iteración: 0\n",
      "Estamos en la iteración: 1\n",
      "Estamos en la iteración: 2\n",
      "Estamos en la iteración: 3\n",
      "Estamos en la iteración: 4\n",
      "Estamos en la iteración: 5\n",
      "Estamos en la iteración: 6\n",
      "Estamos en la iteración: 7\n",
      "Estamos en la iteración: 8\n",
      "Estamos en la iteración: 9\n"
     ]
    }
   ],
   "source": [
    "for x in range(10):\n",
    "    print (\"Estamos en la iteración:\",x)"
   ]
  },
  {
   "cell_type": "markdown",
   "metadata": {},
   "source": [
    "Si en el range especificamos un numero separado por una coma indica por donde comienza a iterar el for . Por ejemplo ."
   ]
  },
  {
   "cell_type": "code",
   "execution_count": 1,
   "metadata": {},
   "outputs": [
    {
     "name": "stdout",
     "output_type": "stream",
     "text": [
      "2\n",
      "3\n",
      "4\n",
      "5\n"
     ]
    }
   ],
   "source": [
    "for i in range (2,6):\n",
    "    print (i)\n"
   ]
  },
  {
   "cell_type": "markdown",
   "metadata": {},
   "source": [
    "Igualmente si se vuelve especificar otro numero en el tercer parametro indica el salto con el que va a contar. Por ejemplo."
   ]
  },
  {
   "cell_type": "code",
   "execution_count": 2,
   "metadata": {},
   "outputs": [
    {
     "name": "stdout",
     "output_type": "stream",
     "text": [
      "5\n",
      "15\n",
      "25\n",
      "35\n",
      "45\n"
     ]
    }
   ],
   "source": [
    "for i in range (5,50,10):\n",
    "    print (i)"
   ]
  },
  {
   "cell_type": "markdown",
   "metadata": {},
   "source": [
    "<h3>Consejo: Con el método .lower() se puede convertir cualquier str a minúsculas.</h3>"
   ]
  },
  {
   "cell_type": "markdown",
   "metadata": {},
   "source": [
    "<h2>While</h2>"
   ]
  },
  {
   "cell_type": "markdown",
   "metadata": {},
   "source": [
    "Estructura:\n",
    "    while condicion de salida:\n",
    "        bloque de codigo\n"
   ]
  },
  {
   "cell_type": "code",
   "execution_count": 5,
   "metadata": {},
   "outputs": [
    {
     "name": "stdout",
     "output_type": "stream",
     "text": [
      "Su palabra es:Hola Mundo\n",
      "Su palabra es:Hola Mundo\n",
      "Su palabra es:Hola Mundo\n",
      "Su palabra es:Hola Mundo\n",
      "Su palabra es:Hola Mundo\n"
     ]
    }
   ],
   "source": [
    "x=int(input(\"Introduzca la cantidad de veces que desea observar tu palabra:\"))\n",
    "y=input(\"Introduzca la palabra:\")\n",
    "i=0\n",
    "while i<x:\n",
    "    print(\"Su palabra es:\"+y)\n",
    "    i+=1\n",
    "    "
   ]
  },
  {
   "cell_type": "code",
   "execution_count": 12,
   "metadata": {},
   "outputs": [
    {
     "name": "stdout",
     "output_type": "stream",
     "text": [
      "Escriba algo---(Escriba detener para parar)---\n",
      "Ud introdujo la palabra:Hola\n",
      "Escriba algo---(Escriba detener para parar)---\n",
      "Ud introdujo la palabra:Detener\n",
      "Ha detenido el programa\n"
     ]
    }
   ],
   "source": [
    "respuesta=\"\"\n",
    "while respuesta!=\"detener\":\n",
    "    print(\"Escriba algo---(Escriba detener para parar)---\")\n",
    "    respuesta=input(\"--->\")\n",
    "    print(\"Ud introdujo la palabra:\"+respuesta)\n",
    "    respuesta=respuesta.lower()\n",
    "    if respuesta==\"detener\":\n",
    "        print(\"Ha detenido el programa\")  \n",
    "        "
   ]
  },
  {
   "cell_type": "markdown",
   "metadata": {},
   "source": [
    "<h2>Funciones</h2>"
   ]
  },
  {
   "cell_type": "markdown",
   "metadata": {},
   "source": [
    "Las funciones en python se realizan con la palabra reservada def que indica que es una función.\n",
    "\n",
    "Estructura:\n",
    "    def nombre (\n",
    "        codigo...\n",
    "        return ...\n",
    "    )"
   ]
  },
  {
   "cell_type": "markdown",
   "metadata": {},
   "source": [
    "A continuacion se muestra un ejemplo de una función que recibe datos."
   ]
  },
  {
   "cell_type": "code",
   "execution_count": 32,
   "metadata": {},
   "outputs": [
    {
     "name": "stdout",
     "output_type": "stream",
     "text": [
      "275\n",
      "('Se multiplico exitósamente por 5 el numero', 55)\n"
     ]
    }
   ],
   "source": [
    "def pintar(x):\n",
    "    print(x*5)\n",
    "    return \"Se multiplico exitósamente por 5 el numero\",x\n",
    "\n",
    "\n",
    "x=int(input(\"Introduzca el numero a multiplicar por 5-->\"))\n",
    "print(pintar(x))"
   ]
  },
  {
   "cell_type": "markdown",
   "metadata": {},
   "source": [
    "Una función puede tener muchos parametros divididos por comas. El parametro puede tener distintos tipos de datos."
   ]
  },
  {
   "cell_type": "markdown",
   "metadata": {},
   "source": [
    "A continuación se muestra una función que recibe múltiples parámetros y devuelve un dato con la palabra reservada return."
   ]
  },
  {
   "cell_type": "markdown",
   "metadata": {},
   "source": [
    "Una función puede devolver múltiples resultados como se ve en el siguiente ejempo que devuelve con el return un mensaje de tipo string y el resultado x de el cálculo."
   ]
  },
  {
   "cell_type": "code",
   "execution_count": 37,
   "metadata": {},
   "outputs": [
    {
     "name": "stdout",
     "output_type": "stream",
     "text": [
      "El resultado del calculo es: 10\n",
      "El resultado del calculo es: 10\n",
      "El resultado del calculo es: 10\n",
      "('Se multiplico exitósamente por 5 el numero', 2)\n"
     ]
    }
   ],
   "source": [
    "def pintar(x,y,z):\n",
    "    i=0\n",
    "    while i<z: \n",
    "        print(y,x*5)\n",
    "        i+=1\n",
    "    return \"Se multiplicó exitósamente por 5 el número\",x\n",
    "\n",
    "\n",
    "x=int(input(\"Introduzca el numero a multiplicar por 5-->\"))\n",
    "y=\"El resultado del calculo es:\"\n",
    "z=int(input(\"Introduzca la cantidad de veces que desea ver el resultado\"))\n",
    "print(pintar(x,y,z))"
   ]
  },
  {
   "cell_type": "markdown",
   "metadata": {},
   "source": [
    "<h2>Listas</h2>"
   ]
  },
  {
   "cell_type": "markdown",
   "metadata": {},
   "source": [
    "Las listas son otro tipo de dato muy importante capaza de guardar una gran cantidad de datos."
   ]
  },
  {
   "cell_type": "markdown",
   "metadata": {},
   "source": [
    "Estructura:\n",
    "Lista=[]\n"
   ]
  },
  {
   "cell_type": "markdown",
   "metadata": {},
   "source": [
    "Si se desea obtener un dato en específico se debe especificar el lugar donde se encuentra dicho dato. Nota: Las posiciones de las listas comienzan en 0."
   ]
  },
  {
   "cell_type": "code",
   "execution_count": 40,
   "metadata": {},
   "outputs": [
    {
     "name": "stdout",
     "output_type": "stream",
     "text": [
      "['William', 'Gómez', 23]\n",
      "William\n",
      "Gómez\n",
      "23\n"
     ]
    }
   ],
   "source": [
    "Lista=[\"William\",\"Gómez\",23]\n",
    "print(Lista)\n",
    "print(Lista[0])\n",
    "print(Lista[1])\n",
    "print(Lista[2])"
   ]
  },
  {
   "cell_type": "code",
   "execution_count": 46,
   "metadata": {},
   "outputs": [
    {
     "name": "stdout",
     "output_type": "stream",
     "text": [
      "Su nombre es:William\n",
      "Su apellido es:Gomez\n",
      "Su edad es:23\n",
      "['William', 'Gomez', '23']\n"
     ]
    }
   ],
   "source": [
    "x=input(\"Nombre-->\")\n",
    "y=input(\"Apellido->\")\n",
    "z=(input(\"Edad-->\"))\n",
    "Lista=[x,y,z]\n",
    "print(\"Su nombre es:\"+Lista[0])\n",
    "print(\"Su apellido es:\"+Lista[1])\n",
    "print(\"Su edad es:\"+Lista[2])\n",
    "print(Lista)"
   ]
  },
  {
   "cell_type": "markdown",
   "metadata": {},
   "source": [
    "Las listas tienen métodos por defecto que ayudan a la hora de su uso :\n",
    "\n",
    ".pop() : Elimina el elemento de la lista que se marca por parámetro.\n",
    "\n",
    "Ejemplo : Lista.pop(2) --> Esto eliminaría el dato de la lista que está en la posición 2."
   ]
  },
  {
   "cell_type": "code",
   "execution_count": 49,
   "metadata": {},
   "outputs": [
    {
     "name": "stdout",
     "output_type": "stream",
     "text": [
      "El dato eliminado es: 23\n",
      "La nueva lista sin el dato es: ['William', 'Gómez']\n"
     ]
    }
   ],
   "source": [
    "new_list=[\"William\",\"Gómez\",23]\n",
    "delete_data=new_list.pop(2)\n",
    "print(\"El dato eliminado es:\",delete_data)\n",
    "new_modified_list=new_list\n",
    "print(\"La nueva lista sin el dato es:\",new_modified_list)"
   ]
  },
  {
   "cell_type": "markdown",
   "metadata": {},
   "source": [
    ".append() : Agrega un dato enviado por parámetro al final de la lista especificada.\n"
   ]
  },
  {
   "cell_type": "code",
   "execution_count": 51,
   "metadata": {},
   "outputs": [
    {
     "name": "stdout",
     "output_type": "stream",
     "text": [
      "La antigua lista es: ['William', 'Gomez']\n",
      "La nueva lista es: ['William', 'Gomez', '23']\n"
     ]
    }
   ],
   "source": [
    "list=[\"William\",\"Gomez\"]\n",
    "x=input(\"Introduzca la edad para agregarla a la lista-->\")\n",
    "print(\"La antigua lista es:\",list)\n",
    "list.append(x)\n",
    "print(\"La nueva lista es:\",list)"
   ]
  },
  {
   "cell_type": "markdown",
   "metadata": {},
   "source": [
    ".insert(): Este método recibe dos parámetros la primera posición indica en donde será insertado y la segunda el dato a insertar."
   ]
  },
  {
   "cell_type": "code",
   "execution_count": 55,
   "metadata": {},
   "outputs": [
    {
     "name": "stdout",
     "output_type": "stream",
     "text": [
      "Su edad será insertada en la posición: 0\n",
      "['23', 'William', 'Gomez']\n"
     ]
    }
   ],
   "source": [
    "insertar_list=[\"William\",\"Gomez\"]\n",
    "x=input(\"Inserte su edad William:\")\n",
    "y=int(input(\"Inserte en que posición desea observar su edad del 0 al 2\"))\n",
    "insertar_list.insert(y,x)\n",
    "print(\"Su edad será insertada en la posición:\",y)\n",
    "print(insertar_list)"
   ]
  },
  {
   "cell_type": "markdown",
   "metadata": {},
   "source": [
    ".extend():Este método puede enlazar a una lista otra lista enviada por parámetro."
   ]
  },
  {
   "cell_type": "code",
   "execution_count": 56,
   "metadata": {},
   "outputs": [
    {
     "name": "stdout",
     "output_type": "stream",
     "text": [
      "['William', 'Gomez', '23']\n"
     ]
    }
   ],
   "source": [
    "list1=[\"William\",\"Gomez\"]\n",
    "list2=[\"23\"]\n",
    "list1.extend(list2)\n",
    "print(list1)"
   ]
  },
  {
   "cell_type": "markdown",
   "metadata": {},
   "source": [
    ".remove():Este método recibe un elemento por parámetro y lo elimina de la lista. (En caso de que el dato aparezca otras veces solamente eliminará el primero que encuentre.)"
   ]
  },
  {
   "cell_type": "code",
   "execution_count": 57,
   "metadata": {},
   "outputs": [
    {
     "name": "stdout",
     "output_type": "stream",
     "text": [
      "['William', 'Gomez']\n"
     ]
    }
   ],
   "source": [
    "list3=[\"William\",\"Gomez\",23]\n",
    "list3.remove(23)\n",
    "print(list3)"
   ]
  },
  {
   "cell_type": "markdown",
   "metadata": {},
   "source": [
    "<h2>Diccionarios</h2>"
   ]
  },
  {
   "cell_type": "markdown",
   "metadata": {},
   "source": [
    "Los diccionarios son otro tipo de dato en Python. Su estructura es la siguiente:\n",
    "\n",
    "nombre={\"nombre\":\"William\",\"Edad\":23,\"fuma\":false}"
   ]
  },
  {
   "cell_type": "markdown",
   "metadata": {},
   "source": [
    "Cada dato dentro de un diccionario está asociado a una clave."
   ]
  },
  {
   "cell_type": "code",
   "execution_count": 1,
   "metadata": {},
   "outputs": [
    {
     "name": "stdout",
     "output_type": "stream",
     "text": [
      "{'nombre': 'William', 'Edad': 23, 'fuma': False}\n"
     ]
    }
   ],
   "source": [
    "\n",
    "nombre={\"nombre\":\"William\",\"Edad\":23,\"fuma\":False}\n",
    "print(nombre)"
   ]
  },
  {
   "cell_type": "markdown",
   "metadata": {},
   "source": [
    "Para llamar a un dato en especifico se debe llamar a la clave asociada.Tambien se puede utilizar el metodo .get(clave) para acceder a el dato  .Ejemplo:"
   ]
  },
  {
   "cell_type": "code",
   "execution_count": 2,
   "metadata": {},
   "outputs": [
    {
     "name": "stdout",
     "output_type": "stream",
     "text": [
      "William\n"
     ]
    }
   ],
   "source": [
    "print(nombre[\"nombre\"])"
   ]
  },
  {
   "cell_type": "code",
   "execution_count": 3,
   "metadata": {},
   "outputs": [
    {
     "data": {
      "text/plain": [
       "'William'"
      ]
     },
     "execution_count": 3,
     "metadata": {},
     "output_type": "execute_result"
    }
   ],
   "source": [
    "nombre.get(\"nombre\")"
   ]
  },
  {
   "cell_type": "markdown",
   "metadata": {},
   "source": [
    "Tambien tenemos el metodo .pop(clave) se encarga de eliminar el dato de dicha clave y la eliminara."
   ]
  },
  {
   "cell_type": "code",
   "execution_count": 4,
   "metadata": {},
   "outputs": [
    {
     "name": "stdout",
     "output_type": "stream",
     "text": [
      "{'nombre': 'William', 'edad': 23, 'altura': 82.1}\n",
      "{'nombre': 'William', 'altura': 82.1}\n"
     ]
    }
   ],
   "source": [
    "diccionario={\"nombre\":\"William\",\"edad\":23,\"altura\":182.2}\n",
    "print(diccionario)\n",
    "diccionario.pop(\"edad\")\n",
    "print(diccionario)"
   ]
  },
  {
   "cell_type": "markdown",
   "metadata": {},
   "source": [
    "El metodo .update({\"clave\":nuevo_dato}) actualiza el dato de la clave enviada por uno nuevo."
   ]
  },
  {
   "cell_type": "code",
   "execution_count": 5,
   "metadata": {},
   "outputs": [
    {
     "name": "stdout",
     "output_type": "stream",
     "text": [
      "{'nombre': 'Edey', 'edad': 19, 'altura': 163.0}\n",
      "{'nombre': 'Edey', 'edad': 19, 'altura': 164.0}\n"
     ]
    }
   ],
   "source": [
    "dicc={\"nombre\":\"Edey\",\"edad\":19,\"altura\":163.0}\n",
    "print(dicc)\n",
    "dicc.update({\"altura\":164.0})\n",
    "print(dicc)"
   ]
  },
  {
   "cell_type": "markdown",
   "metadata": {},
   "source": [
    "Usando [] tambien se puede actualizar el valor en un diccionario."
   ]
  },
  {
   "cell_type": "code",
   "execution_count": 6,
   "metadata": {},
   "outputs": [
    {
     "name": "stdout",
     "output_type": "stream",
     "text": [
      "{'nombre': 'Loriet', 'edad': 19, 'altura': 174.2}\n",
      "{'nombre': 'Loriet', 'edad': 20, 'altura': 174.2}\n"
     ]
    }
   ],
   "source": [
    "dicc2={\"nombre\":\"Loriet\",\"edad\":19,\"altura\":174.2}\n",
    "print(dicc2)\n",
    "dicc2[\"edad\"]=20\n",
    "print(dicc2)"
   ]
  },
  {
   "cell_type": "markdown",
   "metadata": {},
   "source": [
    "Se puede preguntar si existen datos en el diccionario de la siguiente manera:(esto devuelve true or false)"
   ]
  },
  {
   "cell_type": "code",
   "execution_count": 7,
   "metadata": {},
   "outputs": [
    {
     "name": "stdout",
     "output_type": "stream",
     "text": [
      "True\n"
     ]
    }
   ],
   "source": [
    "print (\"edad\" in dicc2)"
   ]
  },
  {
   "cell_type": "markdown",
   "metadata": {},
   "source": [
    "El verdadero potencial es cuando se combinan los diccionarios con las listas pudiendo acceder a una lista de diccionarios organizando mejor los datos y facilitando su acceso."
   ]
  },
  {
   "cell_type": "code",
   "execution_count": 8,
   "metadata": {},
   "outputs": [
    {
     "name": "stdout",
     "output_type": "stream",
     "text": [
      "[{'nombre': 'Loriet', 'edad': 20, 'altura': 174.2}, {'nombre': 'Edey', 'edad': 19, 'altura': 164.0}, {'nombre': 'William', 'altura': 82.1}]\n"
     ]
    }
   ],
   "source": [
    "lista_general=[dicc2,dicc,diccionario]\n",
    "print(lista_general)"
   ]
  },
  {
   "cell_type": "markdown",
   "metadata": {},
   "source": [
    "Los diccionarios pueden tener como llave tambien int ."
   ]
  },
  {
   "cell_type": "code",
   "execution_count": 15,
   "metadata": {},
   "outputs": [
    {
     "name": "stdout",
     "output_type": "stream",
     "text": [
      "{1: 'William', 2: 'Edey', 3: 'Loriet'}\n",
      "William\n",
      "Edey\n",
      "Loriet\n"
     ]
    }
   ],
   "source": [
    "dicc3={1:\"William\",2:\"Edey\",3:\"Loriet\"}\n",
    "print(dicc3)\n",
    "print(dicc3.get(1))\n",
    "print(dicc3[2])\n",
    "print(dicc3[3])\n"
   ]
  },
  {
   "cell_type": "markdown",
   "metadata": {},
   "source": [
    "<h2>Recorrer un diccionario</h2>"
   ]
  },
  {
   "cell_type": "markdown",
   "metadata": {},
   "source": [
    "Para recorrer un diccionario en su totalidad se puede usar el for creando dos variables una para guardar la clave y otra para el valor. A continuación un ejemplo:"
   ]
  },
  {
   "cell_type": "code",
   "execution_count": 31,
   "metadata": {},
   "outputs": [
    {
     "name": "stdout",
     "output_type": "stream",
     "text": [
      " La clave es--> nombre \n",
      " El valor es--> Victor\n",
      "***************************\n",
      " La clave es--> edad \n",
      " El valor es--> 17\n",
      "Esta persona es menor de edad\n",
      "***************************\n",
      " La clave es--> altura \n",
      " El valor es--> 178\n",
      "***************************\n"
     ]
    }
   ],
   "source": [
    "dicc_1={\"nombre\":\"William\",\"edad\":23,\"altura\":182}\n",
    "dicc_2={\"nombre\":\"Edey\",\"edad\":19,\"altura\":162}\n",
    "dicc_3={\"nombre\":\"Loriet\",\"edad\":20,\"altura\":175}\n",
    "dicc_4={\"nombre\":\"Victor\",\"edad\":17,\"altura\":178}\n",
    "\n",
    "Lista_completa=[dicc_1,dicc_2,dicc_3]\n",
    "\n",
    "for clave,valor in dicc_4.items():\n",
    "    print(\" La clave es-->\",clave,\"\\n El valor es-->\",valor)\n",
    "    if clave==\"edad\" and valor<18:\n",
    "        print(\"Esta persona es menor de edad\")\n",
    "    print(\"***************************\")    "
   ]
  },
  {
   "cell_type": "code",
   "execution_count": 65,
   "metadata": {},
   "outputs": [
    {
     "name": "stdout",
     "output_type": "stream",
     "text": [
      "***************************\n",
      "-----DICCIONARIO N^ 1 -----\n",
      "***************************\n",
      " Clave--> nombre | Valor--> William\n",
      " Clave--> edad | Valor--> 23\n",
      " Clave--> altura | Valor--> 182\n",
      "***************************\n",
      "-----DICCIONARIO N^ 2 -----\n",
      "***************************\n",
      " Clave--> nombre | Valor--> Edey\n",
      " Clave--> edad | Valor--> 17\n",
      "----Esta persona es menor de edad----\n",
      " Clave--> altura | Valor--> 162\n",
      "***************************\n",
      "-----DICCIONARIO N^ 3 -----\n",
      "***************************\n",
      " Clave--> nombre | Valor--> Loriet\n",
      " Clave--> edad | Valor--> 20\n",
      " Clave--> altura | Valor--> 175\n"
     ]
    }
   ],
   "source": [
    "dicc_1={\"nombre\":\"William\",\"edad\":23,\"altura\":182}\n",
    "dicc_2={\"nombre\":\"Edey\",\"edad\":17,\"altura\":162}\n",
    "dicc_3={\"nombre\":\"Loriet\",\"edad\":20,\"altura\":175}\n",
    "\n",
    "\n",
    "Lista_completa=[dicc_1,dicc_2,dicc_3]\n",
    "y=0\n",
    "for x in Lista_completa:\n",
    "    y+=1\n",
    "    print(\"***************************\")\n",
    "    print(\"-----DICCIONARIO N^\",y,\"-----\")\n",
    "    print(\"***************************\")\n",
    "    \n",
    "    for clave,valor in x.items():\n",
    "        print(\" Clave-->\",clave,\"|\", \"Valor-->\",valor) \n",
    "        if clave==\"edad\" and valor<18:\n",
    "            print(\"----Esta persona es menor de edad----\")"
   ]
  },
  {
   "cell_type": "markdown",
   "metadata": {},
   "source": [
    "<h2>Proyecto Final</h2>"
   ]
  },
  {
   "cell_type": "markdown",
   "metadata": {},
   "source": [
    "Ver Proyecto_Final.py"
   ]
  },
  {
   "cell_type": "markdown",
   "metadata": {},
   "source": [
    "D:\\Programacion\\Machine Learning\\Proyecto_Final.py"
   ]
  }
 ],
 "metadata": {
  "kernelspec": {
   "display_name": "Python 3",
   "language": "python",
   "name": "python3"
  },
  "language_info": {
   "codemirror_mode": {
    "name": "ipython",
    "version": 3
   },
   "file_extension": ".py",
   "mimetype": "text/x-python",
   "name": "python",
   "nbconvert_exporter": "python",
   "pygments_lexer": "ipython3",
   "version": "3.11.3"
  },
  "orig_nbformat": 4
 },
 "nbformat": 4,
 "nbformat_minor": 2
}
